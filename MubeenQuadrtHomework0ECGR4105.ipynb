{
 "cells": [
  {
   "cell_type": "code",
   "execution_count": 1,
   "id": "978c6e23",
   "metadata": {},
   "outputs": [],
   "source": [
    "# Mubeen Quadrt - ECGR 4105: Homework 0\n",
    "\n",
    "# Based off class Linear Regression example provided\n",
    "\n",
    "#libraries used:\n",
    "import numpy as np\n",
    "import pandas as pd\n",
    "import matplotlib.pyplot as plt"
   ]
  },
  {
   "cell_type": "code",
   "execution_count": 2,
   "id": "2f633fce",
   "metadata": {},
   "outputs": [
    {
     "data": {
      "text/plain": [
       "99"
      ]
     },
     "execution_count": 2,
     "metadata": {},
     "output_type": "execute_result"
    }
   ],
   "source": [
    "df = pd.read_csv('https://raw.githubusercontent.com/MubeenQ/IntroMLHW/main/D3.csv')\n",
    "df.head() \n",
    "M=len(df)\n",
    "M\n"
   ]
  },
  {
   "cell_type": "code",
   "execution_count": 112,
   "id": "c73cac3f",
   "metadata": {},
   "outputs": [
    {
     "name": "stdout",
     "output_type": "stream",
     "text": [
      "X1 =  [0.04040404 0.08080808 0.12121212 0.16161616 0.2020202 ]\n",
      "y =  [2.6796499  2.96848981 3.25406475 3.53637472 3.81541972]\n",
      "m =  99\n"
     ]
    }
   ],
   "source": [
    "#Problem 1 - X1 \n",
    "\n",
    "X1 = df.values[:, 0] # get input values from first column\n",
    "y = df.values[:, 3] # get output values from fourth column\n",
    "m = len(y) \n",
    "print('X1 = ', X1[: 5]) \n",
    "print('y = ', y[: 5])\n",
    "print('m = ', m)\n"
   ]
  },
  {
   "cell_type": "code",
   "execution_count": 24,
   "id": "1c702982",
   "metadata": {},
   "outputs": [
    {
     "name": "stdout",
     "output_type": "stream",
     "text": [
      "X1 =  [0.04040404 0.08080808 0.12121212 0.16161616 0.2020202  0.24242424\n",
      " 0.28282828 0.32323232 0.36363636 0.4040404  0.44444444 0.48484848\n",
      " 0.52525253 0.56565657 0.60606061 0.64646465 0.68686869 0.72727273\n",
      " 0.76767677 0.80808081 0.84848485 0.88888889 0.92929293 0.96969697\n",
      " 1.01010101 1.05050505 1.09090909 1.13131313 1.17171717 1.21212121\n",
      " 1.25252525 1.29292929 1.33333333 1.37373737 1.41414141 1.45454545\n",
      " 1.49494949 1.53535354 1.57575758 1.61616162 1.65656566 1.6969697\n",
      " 1.73737374 1.77777778 1.81818182 1.85858586 1.8989899  1.93939394\n",
      " 1.97979798 2.02020202 2.06060606 2.1010101  2.14141414 2.18181818\n",
      " 2.22222222 2.26262626 2.3030303  2.34343434 2.38383838 2.42424242\n",
      " 2.46464646 2.50505051 2.54545455 2.58585859 2.62626263 2.66666667\n",
      " 2.70707071 2.74747475 2.78787879 2.82828283 2.86868687 2.90909091\n",
      " 2.94949495 2.98989899 3.03030303 3.07070707 3.11111111 3.15151515\n",
      " 3.19191919 3.23232323 3.27272727 3.31313131 3.35353535 3.39393939\n",
      " 3.43434343 3.47474747 3.51515152 3.55555556 3.5959596  3.63636364\n",
      " 3.67676768 3.71717172 3.75757576 3.7979798  3.83838384 3.87878788\n",
      " 3.91919192]\n",
      "y =  [ 2.6796499   2.96848981  3.25406475  3.53637472  3.81541972  4.09119974\n",
      "  2.36371479  3.83296487  4.09894997  4.3616701   4.62112526  4.87731544\n",
      "  3.13024065  3.37990089  3.62629616  3.86942645  5.30929177  5.54589212\n",
      "  3.77922749  4.00929789  4.23610332  4.45964378  4.67991926  2.89692977\n",
      "  3.1106753   4.52115587  4.72837146  4.93232207  5.13300772  3.33042839\n",
      "  3.52458409  3.71547481  3.90310057  4.08746135  5.46855715  3.64638799\n",
      "  3.82095385  3.99225473  4.16029065  4.32506159  4.48656756  2.64480856\n",
      "  2.79978458  4.15149563  4.29994171  4.44512281  2.58703894  2.7256901\n",
      "  2.86107628  2.9931975   3.12205373  3.247645    2.56997129  2.68903261\n",
      "  2.80482896  2.91736034  3.02662674  3.13262817  1.23536462  1.3348361\n",
      "  1.43104261  2.72398415  2.81366071  2.9000723   0.98321892  1.06310057\n",
      "  1.13971724  1.21306894  1.28315566 -0.65002258  0.6135342   0.673826\n",
      "  0.73085284  0.7846147   0.83511159 -1.1176565  -1.07368956 -1.03298759\n",
      " -0.99555059  0.23862143  0.26952848 -1.70282944 -1.67845234 -1.6573402\n",
      " -1.63949305 -1.62491086 -1.61359365 -3.60554141 -2.40075414 -2.39923185\n",
      " -2.40097453 -2.40598218 -4.41425481 -4.4257924  -4.44059497 -4.45866252\n",
      " -4.47999504]\n",
      "m =  99\n"
     ]
    }
   ],
   "source": [
    "X1 = df.values[:, 0] # get input values from first column\n",
    "y = df.values[:, 3] # get output values from fourth column\n",
    "m = len(y) \n",
    "print('X1 = ', X1[: 97]) \n",
    "print('y = ', y[: 97])\n",
    "print('m = ', m)\n"
   ]
  },
  {
   "cell_type": "code",
   "execution_count": 113,
   "id": "6fa9af80",
   "metadata": {
    "scrolled": false
   },
   "outputs": [
    {
     "data": {
      "text/plain": [
       "Text(0.5, 1.0, 'D3 Dataset Scatter Plot')"
      ]
     },
     "execution_count": 113,
     "metadata": {},
     "output_type": "execute_result"
    },
    {
     "data": {
      "image/png": "[encoded data removed]",
      "text/plain": [
       "<Figure size 720x432 with 1 Axes>"
      ]
     },
     "metadata": {
      "needs_background": "light"
     },
     "output_type": "display_data"
    }
   ],
   "source": [
    "plt.scatter(X1,y, color='red',marker= '*')\n",
    "plt.grid()\n",
    "plt.rcParams[\"figure.figsize\"] = (10,6)\n",
    "plt.xlabel('X1 Explanatory Variable Data')\n",
    "plt.ylabel('Y Dependant Variable')\n",
    "plt.title('D3 Dataset Scatter Plot')\n"
   ]
  },
  {
   "cell_type": "code",
   "execution_count": 114,
   "id": "f0f502fb",
   "metadata": {},
   "outputs": [
    {
     "data": {
      "text/plain": [
       "array([[1.],\n",
       "       [1.],\n",
       "       [1.],\n",
       "       [1.],\n",
       "       [1.]])"
      ]
     },
     "execution_count": 114,
     "metadata": {},
     "output_type": "execute_result"
    }
   ],
   "source": [
    "#Lets create a matrix with single column of ones\n",
    "X1_0 = np.ones((m, 1))\n",
    "X1_0[:5]"
   ]
  },
  {
   "cell_type": "code",
   "execution_count": 115,
   "id": "d9f62be6",
   "metadata": {
    "scrolled": true
   },
   "outputs": [
    {
     "data": {
      "text/plain": [
       "array([[0.04040404],\n",
       "       [0.08080808],\n",
       "       [0.12121212],\n",
       "       [0.16161616],\n",
       "       [0.2020202 ],\n",
       "       [0.24242424],\n",
       "       [0.28282828],\n",
       "       [0.32323232],\n",
       "       [0.36363636],\n",
       "       [0.4040404 ]])"
      ]
     },
     "execution_count": 115,
     "metadata": {},
     "output_type": "execute_result"
    }
   ],
   "source": [
    "# Using reshape function convert X1 1D array to 2D array of dimension 97x1\n",
    "X1_1 = X1.reshape(m, 1)\n",
    "X1_1[:10]"
   ]
  },
  {
   "cell_type": "code",
   "execution_count": 116,
   "id": "f31428bc",
   "metadata": {
    "scrolled": true
   },
   "outputs": [
    {
     "data": {
      "text/plain": [
       "array([[1.        , 0.04040404],\n",
       "       [1.        , 0.08080808],\n",
       "       [1.        , 0.12121212],\n",
       "       [1.        , 0.16161616],\n",
       "       [1.        , 0.2020202 ]])"
      ]
     },
     "execution_count": 116,
     "metadata": {},
     "output_type": "execute_result"
    }
   ],
   "source": [
    "# Lets use hstack() function from numpy to stack X1_0 and X1_1 horizontally (i.e. column\n",
    "# This will be our final X1 matrix (feature matrix)\n",
    "X1 = np.hstack((X1_0, X1_1))\n",
    "X1[:5]\n"
   ]
  },
  {
   "cell_type": "code",
   "execution_count": 117,
   "id": "bed73c33",
   "metadata": {},
   "outputs": [
    {
     "data": {
      "text/plain": [
       "array([0., 0.])"
      ]
     },
     "execution_count": 117,
     "metadata": {},
     "output_type": "execute_result"
    }
   ],
   "source": [
    "theta = np.zeros(2)\n",
    "theta\n"
   ]
  },
  {
   "cell_type": "code",
   "execution_count": 118,
   "id": "dc990e09",
   "metadata": {},
   "outputs": [],
   "source": [
    "def compute_cost(X1, y, theta):\n",
    " \"\"\"\n",
    "\n",
    " X1 : Explanatory Vairable\n",
    "\n",
    " y : Dependant Variable\n",
    " \n",
    " \"\"\"\n",
    " predictions = X1.dot(theta)\n",
    " errors = np.subtract(predictions, y)\n",
    " sqrErrors = np.square(errors)\n",
    " J = 1 / (2 * m) * np.sum(sqrErrors)\n",
    " return J\n"
   ]
  },
  {
   "cell_type": "code",
   "execution_count": 119,
   "id": "4cda785f",
   "metadata": {
    "scrolled": true
   },
   "outputs": [
    {
     "name": "stdout",
     "output_type": "stream",
     "text": [
      "The cost for given values of theta_0 and theta_1 = 5.483015861682611\n"
     ]
    }
   ],
   "source": [
    "# Lets compute the cost for theta values\n",
    "cost = compute_cost(X1, y, theta)\n",
    "print('The cost for given values of theta_0 and theta_1 =', cost)"
   ]
  },
  {
   "cell_type": "code",
   "execution_count": 120,
   "id": "c8e6587c",
   "metadata": {},
   "outputs": [],
   "source": [
    "def gradient_descent(X1, y, theta, alpha, iterations):\n",
    " \"\"\"\n",
    " X1 : 2D array where each row represent the training example and each column represent\n",
    " y : 1D array of labels/target value for each traing example. dimension(m x 1)\n",
    " theta : 1D array of fitting parameters or weights. Dimension (1 x n)\n",
    " alpha : Learning rate. Scalar value\n",
    " iterations: No of iterations. Scalar value.\n",
    "\n",
    " \"\"\"\n",
    " cost_history = np.zeros(iterations)\n",
    "    \n",
    " for i in range(iterations):\n",
    "     predictions = X1.dot(theta)\n",
    "     errors = np.subtract(predictions, y)\n",
    "     sum_delta = (alpha / m) * X1.transpose().dot(errors);\n",
    "     theta = theta - sum_delta;\n",
    "     cost_history[i] = compute_cost(X1, y, theta)\n",
    "        \n",
    " return theta, cost_history"
   ]
  },
  {
   "cell_type": "code",
   "execution_count": 122,
   "id": "618959cd",
   "metadata": {},
   "outputs": [],
   "source": [
    "theta = [0., 0.]\n",
    "iterations = 1500;\n",
    "alpha = 0.01;\n"
   ]
  },
  {
   "cell_type": "code",
   "execution_count": 123,
   "id": "cf7afe10",
   "metadata": {},
   "outputs": [
    {
     "name": "stdout",
     "output_type": "stream",
     "text": [
      "Final value of theta = [ 5.75752967 -1.97114532]\n",
      "cost_history = [5.4416155  5.40304386 5.36697031 ... 0.98927932 0.98925005 0.98922091]\n"
     ]
    }
   ],
   "source": [
    "theta, cost_history = gradient_descent(X1, y, theta, alpha, iterations)\n",
    "print('Final value of theta =', theta)\n",
    "print('cost_history =', cost_history)"
   ]
  },
  {
   "cell_type": "code",
   "execution_count": 152,
   "id": "d9fd4e8e",
   "metadata": {
    "scrolled": true
   },
   "outputs": [
    {
     "data": {
      "text/plain": [
       "<matplotlib.legend.Legend at 0x24029e9a070>"
      ]
     },
     "execution_count": 152,
     "metadata": {},
     "output_type": "execute_result"
    },
    {
     "data": {
      "image/png": "[encoded data removed]",
      "text/plain": [
       "<Figure size 720x432 with 1 Axes>"
      ]
     },
     "metadata": {
      "needs_background": "light"
     },
     "output_type": "display_data"
    }
   ],
   "source": [
    "\n",
    "# Since X1 is list of list (feature matrix) lets take values of column of index 1 only\n",
    "plt.scatter(X1[:,1], y, color='red', marker= '+', label= 'Training Data')\n",
    "plt.plot(X1[:,1],X1.dot(theta), color='green', label='Linear Regression')\n",
    "plt.rcParams[\"figure.figsize\"] = (10,6)\n",
    "plt.grid()\n",
    "plt.xlabel('X1 Explanatory Variable Data')\n",
    "plt.ylabel('Y Dependant Variable')\n",
    "plt.title('Linear Regression Fit for X1/Y Dataset')\n",
    "plt.legend()\n"
   ]
  },
  {
   "cell_type": "code",
   "execution_count": 124,
   "id": "e3ddfa84",
   "metadata": {},
   "outputs": [
    {
     "data": {
      "text/plain": [
       "Text(0.5, 1.0, 'Convergence of gradient descent')"
      ]
     },
     "execution_count": 124,
     "metadata": {},
     "output_type": "execute_result"
    },
    {
     "data": {
      "image/png": "[encoded data removed]",
      "text/plain": [
       "<Figure size 720x432 with 1 Axes>"
      ]
     },
     "metadata": {
      "needs_background": "light"
     },
     "output_type": "display_data"
    }
   ],
   "source": [
    "plt.plot(range(1, iterations + 1),cost_history, color='blue')\n",
    "plt.rcParams[\"figure.figsize\"] = (10,6)\n",
    "plt.grid()\n",
    "plt.xlabel('Number of iterations')\n",
    "plt.ylabel('Dependant Variable Y')\n",
    "plt.title('Convergence of gradient descent')\n"
   ]
  },
  {
   "cell_type": "code",
   "execution_count": 125,
   "id": "ad366ccd",
   "metadata": {},
   "outputs": [
    {
     "name": "stdout",
     "output_type": "stream",
     "text": [
      "X2 =  [0.13494949 0.82989899 1.52484848 2.21979798 2.91474747]\n",
      "y =  [2.6796499  2.96848981 3.25406475 3.53637472 3.81541972]\n",
      "m =  99\n"
     ]
    }
   ],
   "source": [
    "# Problem 1 - X2\n",
    "\n",
    "X2 = df.values[:, 1] # get input values from second column\n",
    "y = df.values[:, 3] # get output values from fourth column\n",
    "m = len(y) \n",
    "print('X2 = ', X2[: 5]) \n",
    "print('y = ', y[: 5])\n",
    "print('m = ', m)"
   ]
  },
  {
   "cell_type": "code",
   "execution_count": 66,
   "id": "0669ffd2",
   "metadata": {},
   "outputs": [
    {
     "name": "stdout",
     "output_type": "stream",
     "text": [
      "X2 =  [0.13494949 0.82989899 1.52484848 2.21979798 2.91474747 3.60969697\n",
      " 0.30464646 0.99959596 1.69454545 2.38949495 3.08444444 3.77939394\n",
      " 0.47434343 1.16929293 1.86424242 2.55919192 3.25414141 3.94909091\n",
      " 0.6440404  1.3389899  2.03393939 2.72888889 3.42383838 0.11878788\n",
      " 0.81373737 1.50868687 2.20363636 2.89858586 3.59353535 0.28848485\n",
      " 0.98343434 1.67838384 2.37333333 3.06828283 3.76323232 0.45818182\n",
      " 1.15313131 1.84808081 2.5430303  3.2379798  3.93292929 0.62787879\n",
      " 1.32282828 2.01777778 2.71272727 3.40767677 0.10262626 0.79757576\n",
      " 1.49252525 2.18747475 2.88242424 3.57737374 0.27232323 0.96727273\n",
      " 1.66222222 2.35717172 3.05212121 3.74707071 0.4420202  1.1369697\n",
      " 1.83191919 2.52686869 3.22181818 3.91676768 0.61171717 1.30666667\n",
      " 2.00161616 2.69656566 3.39151515 0.08646465 0.78141414 1.47636364\n",
      " 2.17131313 2.86626263 3.56121212 0.25616162 0.95111111 1.64606061\n",
      " 2.3410101  3.0359596  3.73090909 0.42585859 1.12080808 1.81575758\n",
      " 2.51070707 3.20565657 3.90060606 0.59555556 1.29050505 1.98545455\n",
      " 2.68040404 3.37535354 0.07030303 0.76525253 1.46020202 2.15515152\n",
      " 2.85010101]\n",
      "y =  [ 2.6796499   2.96848981  3.25406475  3.53637472  3.81541972  4.09119974\n",
      "  2.36371479  3.83296487  4.09894997  4.3616701   4.62112526  4.87731544\n",
      "  3.13024065  3.37990089  3.62629616  3.86942645  5.30929177  5.54589212\n",
      "  3.77922749  4.00929789  4.23610332  4.45964378  4.67991926  2.89692977\n",
      "  3.1106753   4.52115587  4.72837146  4.93232207  5.13300772  3.33042839\n",
      "  3.52458409  3.71547481  3.90310057  4.08746135  5.46855715  3.64638799\n",
      "  3.82095385  3.99225473  4.16029065  4.32506159  4.48656756  2.64480856\n",
      "  2.79978458  4.15149563  4.29994171  4.44512281  2.58703894  2.7256901\n",
      "  2.86107628  2.9931975   3.12205373  3.247645    2.56997129  2.68903261\n",
      "  2.80482896  2.91736034  3.02662674  3.13262817  1.23536462  1.3348361\n",
      "  1.43104261  2.72398415  2.81366071  2.9000723   0.98321892  1.06310057\n",
      "  1.13971724  1.21306894  1.28315566 -0.65002258  0.6135342   0.673826\n",
      "  0.73085284  0.7846147   0.83511159 -1.1176565  -1.07368956 -1.03298759\n",
      " -0.99555059  0.23862143  0.26952848 -1.70282944 -1.67845234 -1.6573402\n",
      " -1.63949305 -1.62491086 -1.61359365 -3.60554141 -2.40075414 -2.39923185\n",
      " -2.40097453 -2.40598218 -4.41425481 -4.4257924  -4.44059497 -4.45866252\n",
      " -4.47999504]\n",
      "m =  99\n"
     ]
    }
   ],
   "source": [
    "X2 = df.values[:, 1] # get input values from second column\n",
    "y = df.values[:, 3] # get output values from fourth column\n",
    "m = len(y) \n",
    "print('X2 = ', X2[: 97]) \n",
    "print('y = ', y[: 97])\n",
    "print('m = ', m)"
   ]
  },
  {
   "cell_type": "code",
   "execution_count": 126,
   "id": "18648afb",
   "metadata": {
    "scrolled": true
   },
   "outputs": [
    {
     "data": {
      "text/plain": [
       "Text(0.5, 1.0, 'D3 Dataset Scatter Plot')"
      ]
     },
     "execution_count": 126,
     "metadata": {},
     "output_type": "execute_result"
    },
    {
     "data": {
      "image/png": "[encoded data removed]",
      "text/plain": [
       "<Figure size 720x432 with 1 Axes>"
      ]
     },
     "metadata": {
      "needs_background": "light"
     },
     "output_type": "display_data"
    }
   ],
   "source": [
    "plt.scatter(X2,y, color='red',marker= '+')\n",
    "plt.grid()\n",
    "plt.rcParams[\"figure.figsize\"] = (10,6)\n",
    "plt.xlabel('X2 Explanatory Variable Data')\n",
    "plt.ylabel('Y Dependant Variable')\n",
    "plt.title('D3 Dataset Scatter Plot')"
   ]
  },
  {
   "cell_type": "code",
   "execution_count": 127,
   "id": "d28fc883",
   "metadata": {},
   "outputs": [
    {
     "data": {
      "text/plain": [
       "array([[1.],\n",
       "       [1.],\n",
       "       [1.],\n",
       "       [1.],\n",
       "       [1.]])"
      ]
     },
     "execution_count": 127,
     "metadata": {},
     "output_type": "execute_result"
    }
   ],
   "source": [
    "#Lets create a matrix with single column of ones\n",
    "X2_0 = np.ones((m, 1))\n",
    "X2_0[:5]"
   ]
  },
  {
   "cell_type": "code",
   "execution_count": 128,
   "id": "561a27b3",
   "metadata": {},
   "outputs": [
    {
     "data": {
      "text/plain": [
       "array([[0.13494949],\n",
       "       [0.82989899],\n",
       "       [1.52484848],\n",
       "       [2.21979798],\n",
       "       [2.91474747],\n",
       "       [3.60969697],\n",
       "       [0.30464646],\n",
       "       [0.99959596],\n",
       "       [1.69454545],\n",
       "       [2.38949495]])"
      ]
     },
     "execution_count": 128,
     "metadata": {},
     "output_type": "execute_result"
    }
   ],
   "source": [
    "# Using reshape function convert X2 1D array to 2D array of dimension 97X2\n",
    "X2_1 = X2.reshape(m, 1)\n",
    "X2_1[:10]"
   ]
  },
  {
   "cell_type": "code",
   "execution_count": 129,
   "id": "e6bbbf35",
   "metadata": {},
   "outputs": [
    {
     "data": {
      "text/plain": [
       "array([[1.        , 0.13494949],\n",
       "       [1.        , 0.82989899],\n",
       "       [1.        , 1.52484848],\n",
       "       [1.        , 2.21979798],\n",
       "       [1.        , 2.91474747]])"
      ]
     },
     "execution_count": 129,
     "metadata": {},
     "output_type": "execute_result"
    }
   ],
   "source": [
    "# Lets use hstack() function from numpy to stack X2_0 and X2_1 horizontally (i.e. column\n",
    "# This will be our final X2 matrix (feature matrix)\n",
    "X2 = np.hstack((X2_0, X2_1))\n",
    "X2[:5]\n"
   ]
  },
  {
   "cell_type": "code",
   "execution_count": 130,
   "id": "cd9c1d63",
   "metadata": {},
   "outputs": [
    {
     "data": {
      "text/plain": [
       "array([0., 0.])"
      ]
     },
     "execution_count": 130,
     "metadata": {},
     "output_type": "execute_result"
    }
   ],
   "source": [
    "theta = np.zeros(2)\n",
    "theta"
   ]
  },
  {
   "cell_type": "code",
   "execution_count": 131,
   "id": "b795ac08",
   "metadata": {},
   "outputs": [],
   "source": [
    "def compute_cost(X2, y, theta):\n",
    " \"\"\"\n",
    " \n",
    " X2 : Explanatory Vairable\n",
    "\n",
    " y : Dependant Variable\n",
    " \n",
    " \"\"\"\n",
    " predictions = X2.dot(theta)\n",
    " errors = np.subtract(predictions, y)\n",
    " sqrErrors = np.square(errors)\n",
    " J = 1 / (2 * m) * np.sum(sqrErrors)\n",
    " return J\n"
   ]
  },
  {
   "cell_type": "code",
   "execution_count": 132,
   "id": "884bc6f9",
   "metadata": {},
   "outputs": [
    {
     "name": "stdout",
     "output_type": "stream",
     "text": [
      "The cost for given values of theta_0 and theta_1 = 5.483015861682611\n"
     ]
    }
   ],
   "source": [
    "# Lets compute the cost for theta values\n",
    "cost = compute_cost(X2, y, theta)\n",
    "print('The cost for given values of theta_0 and theta_1 =', cost)"
   ]
  },
  {
   "cell_type": "code",
   "execution_count": 133,
   "id": "a29dad71",
   "metadata": {},
   "outputs": [],
   "source": [
    "def gradient_descent(X2, y, theta, alpha, iterations):\n",
    " \"\"\"\n",
    " X2 : 2D array where each row represent the training example and each column represent\n",
    " y : 1D array of labels/target value for each traing example. dimension(m x 1)\n",
    " theta : 1D array of fitting parameters or weights. Dimension (1 x n)\n",
    " alpha : Learning rate. Scalar value\n",
    " iterations: No of iterations. Scalar value.\n",
    " \n",
    " \"\"\"\n",
    " cost_history = np.zeros(iterations)\n",
    "    \n",
    " for i in range(iterations):\n",
    "     predictions = X2.dot(theta)\n",
    "     errors = np.subtract(predictions, y)\n",
    "     sum_delta = (alpha / m) * X2.transpose().dot(errors);\n",
    "     theta = theta - sum_delta;\n",
    "     cost_history[i] = compute_cost(X2, y, theta)\n",
    "        \n",
    " return theta, cost_history"
   ]
  },
  {
   "cell_type": "code",
   "execution_count": 134,
   "id": "c05bdead",
   "metadata": {},
   "outputs": [],
   "source": [
    "theta = [0., 0.]\n",
    "iterations = 1500;\n",
    "alpha = 0.05; #Changed learning rate slightly\n"
   ]
  },
  {
   "cell_type": "code",
   "execution_count": 135,
   "id": "43052b9c",
   "metadata": {},
   "outputs": [
    {
     "name": "stdout",
     "output_type": "stream",
     "text": [
      "Final value of theta = [0.75592879 0.5387824 ]\n",
      "cost_history = [4.53773152 4.07898263 3.85619631 ... 3.62015665 3.62015665 3.62015665]\n"
     ]
    }
   ],
   "source": [
    "theta, cost_history = gradient_descent(X2, y, theta, alpha, iterations)\n",
    "print('Final value of theta =', theta)\n",
    "print('cost_history =', cost_history)"
   ]
  },
  {
   "cell_type": "code",
   "execution_count": 136,
   "id": "27f961b2",
   "metadata": {},
   "outputs": [
    {
     "data": {
      "text/plain": [
       "<matplotlib.legend.Legend at 0x24028adf040>"
      ]
     },
     "execution_count": 136,
     "metadata": {},
     "output_type": "execute_result"
    },
    {
     "data": {
      "image/png": "[encoded data removed]",
      "text/plain": [
       "<Figure size 720x432 with 1 Axes>"
      ]
     },
     "metadata": {
      "needs_background": "light"
     },
     "output_type": "display_data"
    }
   ],
   "source": [
    "\n",
    "# Since X2 is list of list (feature matrix) lets take values of column of index 1 only\n",
    "plt.scatter(X2[:,1], y, color='red', marker= '+', label= 'Training Data')\n",
    "plt.plot(X2[:,1],X2.dot(theta), color='green', label='Linear Regression')\n",
    "plt.rcParams[\"figure.figsize\"] = (10,6)\n",
    "plt.grid()\n",
    "plt.xlabel('X2 Explanatory Variable Data')\n",
    "plt.ylabel('Y Dependant Variable')\n",
    "plt.title('Linear Regression Fit for X2/Y Dataset')\n",
    "plt.legend()"
   ]
  },
  {
   "cell_type": "code",
   "execution_count": 137,
   "id": "b67c06da",
   "metadata": {},
   "outputs": [
    {
     "data": {
      "text/plain": [
       "Text(0.5, 1.0, 'Convergence of gradient descent')"
      ]
     },
     "execution_count": 137,
     "metadata": {},
     "output_type": "execute_result"
    },
    {
     "data": {
      "image/png": "[encoded data removed]",
      "text/plain": [
       "<Figure size 720x432 with 1 Axes>"
      ]
     },
     "metadata": {
      "needs_background": "light"
     },
     "output_type": "display_data"
    }
   ],
   "source": [
    "plt.plot(range(1, iterations + 1),cost_history, color='blue')\n",
    "plt.rcParams[\"figure.figsize\"] = (10,6)\n",
    "plt.grid()\n",
    "plt.xlabel('Number of iterations')\n",
    "plt.ylabel('Dependant Variable Y')\n",
    "plt.title('Convergence of gradient descent')\n"
   ]
  },
  {
   "cell_type": "code",
   "execution_count": 138,
   "id": "537f493d",
   "metadata": {},
   "outputs": [
    {
     "name": "stdout",
     "output_type": "stream",
     "text": [
      "X3 =  [0.88848485 1.3369697  1.78545455 2.23393939 2.68242424]\n",
      "y =  [2.6796499  2.96848981 3.25406475 3.53637472 3.81541972]\n",
      "m =  99\n"
     ]
    }
   ],
   "source": [
    "#Problem 1 - X3\n",
    "\n",
    "X3 = df.values[:, 2] # get input values from third column\n",
    "y = df.values[:, 3] # get output values from fourth column\n",
    "m = len(y) \n",
    "print('X3 = ', X3[: 5]) \n",
    "print('y = ', y[: 5])\n",
    "print('m = ', m)\n"
   ]
  },
  {
   "cell_type": "code",
   "execution_count": 81,
   "id": "ee6dd6d7",
   "metadata": {},
   "outputs": [
    {
     "name": "stdout",
     "output_type": "stream",
     "text": [
      "X3 =  [0.88848485 1.3369697  1.78545455 2.23393939 2.68242424 3.13090909\n",
      " 3.57939394 0.02787879 0.47636364 0.92484848 1.37333333 1.82181818\n",
      " 2.27030303 2.71878788 3.16727273 3.61575758 0.06424242 0.51272727\n",
      " 0.96121212 1.40969697 1.85818182 2.30666667 2.75515152 3.20363636\n",
      " 3.65212121 0.10060606 0.54909091 0.99757576 1.44606061 1.89454545\n",
      " 2.3430303  2.79151515 3.24       3.68848485 0.1369697  0.58545455\n",
      " 1.03393939 1.48242424 1.93090909 2.37939394 2.82787879 3.27636364\n",
      " 3.72484848 0.17333333 0.62181818 1.07030303 1.51878788 1.96727273\n",
      " 2.41575758 2.86424242 3.31272727 3.76121212 0.20969697 0.65818182\n",
      " 1.10666667 1.55515152 2.00363636 2.45212121 2.90060606 3.34909091\n",
      " 3.79757576 0.24606061 0.69454545 1.1430303  1.59151515 2.04\n",
      " 2.48848485 2.9369697  3.38545455 3.83393939 0.28242424 0.73090909\n",
      " 1.17939394 1.62787879 2.07636364 2.52484848 2.97333333 3.42181818\n",
      " 3.87030303 0.31878788 0.76727273 1.21575758 1.66424242 2.11272727\n",
      " 2.56121212 3.00969697 3.45818182 3.90666667 0.35515152 0.80363636\n",
      " 1.25212121 1.70060606 2.14909091 2.59757576 3.04606061 3.49454545\n",
      " 3.9430303 ]\n",
      "y =  [ 2.6796499   2.96848981  3.25406475  3.53637472  3.81541972  4.09119974\n",
      "  2.36371479  3.83296487  4.09894997  4.3616701   4.62112526  4.87731544\n",
      "  3.13024065  3.37990089  3.62629616  3.86942645  5.30929177  5.54589212\n",
      "  3.77922749  4.00929789  4.23610332  4.45964378  4.67991926  2.89692977\n",
      "  3.1106753   4.52115587  4.72837146  4.93232207  5.13300772  3.33042839\n",
      "  3.52458409  3.71547481  3.90310057  4.08746135  5.46855715  3.64638799\n",
      "  3.82095385  3.99225473  4.16029065  4.32506159  4.48656756  2.64480856\n",
      "  2.79978458  4.15149563  4.29994171  4.44512281  2.58703894  2.7256901\n",
      "  2.86107628  2.9931975   3.12205373  3.247645    2.56997129  2.68903261\n",
      "  2.80482896  2.91736034  3.02662674  3.13262817  1.23536462  1.3348361\n",
      "  1.43104261  2.72398415  2.81366071  2.9000723   0.98321892  1.06310057\n",
      "  1.13971724  1.21306894  1.28315566 -0.65002258  0.6135342   0.673826\n",
      "  0.73085284  0.7846147   0.83511159 -1.1176565  -1.07368956 -1.03298759\n",
      " -0.99555059  0.23862143  0.26952848 -1.70282944 -1.67845234 -1.6573402\n",
      " -1.63949305 -1.62491086 -1.61359365 -3.60554141 -2.40075414 -2.39923185\n",
      " -2.40097453 -2.40598218 -4.41425481 -4.4257924  -4.44059497 -4.45866252\n",
      " -4.47999504]\n",
      "m =  99\n"
     ]
    }
   ],
   "source": [
    "X3 = df.values[:, 2] # get input values from third column\n",
    "y = df.values[:, 3] # get output values from fourth column\n",
    "m = len(y) \n",
    "print('X3 = ', X3[: 97]) \n",
    "print('y = ', y[: 97])\n",
    "print('m = ', m)"
   ]
  },
  {
   "cell_type": "code",
   "execution_count": 139,
   "id": "b27d7e19",
   "metadata": {},
   "outputs": [
    {
     "data": {
      "text/plain": [
       "Text(0.5, 1.0, 'D3 Dataset Scatter Plot')"
      ]
     },
     "execution_count": 139,
     "metadata": {},
     "output_type": "execute_result"
    },
    {
     "data": {
      "image/png": "[encoded data removed]",
      "text/plain": [
       "<Figure size 720x432 with 1 Axes>"
      ]
     },
     "metadata": {
      "needs_background": "light"
     },
     "output_type": "display_data"
    }
   ],
   "source": [
    "plt.scatter(X3,y, color='red',marker= '+')\n",
    "plt.grid()\n",
    "plt.rcParams[\"figure.figsize\"] = (10,6)\n",
    "plt.xlabel('X3 Explanatory Variable Data')\n",
    "plt.ylabel('Y Dependant Variable')\n",
    "plt.title('D3 Dataset Scatter Plot')"
   ]
  },
  {
   "cell_type": "code",
   "execution_count": 140,
   "id": "a5eb8126",
   "metadata": {},
   "outputs": [
    {
     "data": {
      "text/plain": [
       "array([[1.],\n",
       "       [1.],\n",
       "       [1.],\n",
       "       [1.],\n",
       "       [1.]])"
      ]
     },
     "execution_count": 140,
     "metadata": {},
     "output_type": "execute_result"
    }
   ],
   "source": [
    "#Lets create a matrix with single column of ones\n",
    "X3_0 = np.ones((m, 1))\n",
    "X3_0[:5]"
   ]
  },
  {
   "cell_type": "code",
   "execution_count": 141,
   "id": "eaa67487",
   "metadata": {},
   "outputs": [
    {
     "data": {
      "text/plain": [
       "array([[0.88848485],\n",
       "       [1.3369697 ],\n",
       "       [1.78545455],\n",
       "       [2.23393939],\n",
       "       [2.68242424],\n",
       "       [3.13090909],\n",
       "       [3.57939394],\n",
       "       [0.02787879],\n",
       "       [0.47636364],\n",
       "       [0.92484848]])"
      ]
     },
     "execution_count": 141,
     "metadata": {},
     "output_type": "execute_result"
    }
   ],
   "source": [
    "# Using reshape function convert X3 1D array to 2D array of dimension 97x1\n",
    "X3_1 = X3.reshape(m, 1)\n",
    "X3_1[:10]"
   ]
  },
  {
   "cell_type": "code",
   "execution_count": 142,
   "id": "65618a33",
   "metadata": {},
   "outputs": [
    {
     "data": {
      "text/plain": [
       "array([[1.        , 0.88848485],\n",
       "       [1.        , 1.3369697 ],\n",
       "       [1.        , 1.78545455],\n",
       "       [1.        , 2.23393939],\n",
       "       [1.        , 2.68242424]])"
      ]
     },
     "execution_count": 142,
     "metadata": {},
     "output_type": "execute_result"
    }
   ],
   "source": [
    "# Lets use hstack() function from numpy to stack X3_0 and X3_1 horizontally (i.e. column\n",
    "# This will be our final X3 matrix (feature matrix)\n",
    "X3 = np.hstack((X3_0, X3_1))\n",
    "X3[:5]"
   ]
  },
  {
   "cell_type": "code",
   "execution_count": 143,
   "id": "7ed86131",
   "metadata": {},
   "outputs": [
    {
     "data": {
      "text/plain": [
       "array([0., 0.])"
      ]
     },
     "execution_count": 143,
     "metadata": {},
     "output_type": "execute_result"
    }
   ],
   "source": [
    "theta = np.zeros(2)\n",
    "theta"
   ]
  },
  {
   "cell_type": "code",
   "execution_count": 144,
   "id": "6520fd4d",
   "metadata": {},
   "outputs": [],
   "source": [
    "def compute_cost(X3, y, theta):\n",
    " \"\"\"\n",
    " \n",
    " X3 : Explanatory Vairable\n",
    "\n",
    " y : Dependant Variable\n",
    " \n",
    " \"\"\"\n",
    " predictions = X3.dot(theta)\n",
    " errors = np.subtract(predictions, y)\n",
    " sqrErrors = np.square(errors)\n",
    " J = 1 / (2 * m) * np.sum(sqrErrors)\n",
    " return J\n"
   ]
  },
  {
   "cell_type": "code",
   "execution_count": 145,
   "id": "ee79e52b",
   "metadata": {},
   "outputs": [
    {
     "name": "stdout",
     "output_type": "stream",
     "text": [
      "The cost for given values of theta_0 and theta_1 = 5.483015861682611\n"
     ]
    }
   ],
   "source": [
    "# Lets compute the cost for theta values\n",
    "cost = compute_cost(X3, y, theta)\n",
    "print('The cost for given values of theta_0 and theta_1 =', cost)"
   ]
  },
  {
   "cell_type": "code",
   "execution_count": 146,
   "id": "78fe6fbd",
   "metadata": {},
   "outputs": [],
   "source": [
    "def gradient_descent(X3, y, theta, alpha, iterations):\n",
    " \"\"\"\n",
    " \n",
    " X3 : 2D array where each row represent the training example and each column represent\n",
    " y : 1D array of labels/target value for each traing example. dimension(m x 1)\n",
    " theta : 1D array of fitting parameters or weights. Dimension (1 x n)\n",
    " alpha : Learning rate. Scalar value\n",
    " iterations: No of iterations. Scalar value.\n",
    " \n",
    " \"\"\"\n",
    " cost_history = np.zeros(iterations)\n",
    "    \n",
    " for i in range(iterations):\n",
    "     predictions = X3.dot(theta)\n",
    "     errors = np.subtract(predictions, y)\n",
    "     sum_delta = (alpha / m) * X3.transpose().dot(errors);\n",
    "     theta = theta - sum_delta;\n",
    "     cost_history[i] = compute_cost(X3, y, theta)\n",
    "        \n",
    " return theta, cost_history"
   ]
  },
  {
   "cell_type": "code",
   "execution_count": 147,
   "id": "b0eb916c",
   "metadata": {},
   "outputs": [],
   "source": [
    "theta = [0., 0.]\n",
    "iterations = 1500;\n",
    "alpha = 0.1; # Changed learning rate slightly"
   ]
  },
  {
   "cell_type": "code",
   "execution_count": 148,
   "id": "8c0f09f8",
   "metadata": {},
   "outputs": [
    {
     "name": "stdout",
     "output_type": "stream",
     "text": [
      "Final value of theta = [ 2.81356727 -0.50011833]\n",
      "cost_history = [4.63345925 4.46796219 4.41269659 ... 3.6503     3.6503     3.6503    ]\n"
     ]
    }
   ],
   "source": [
    "theta, cost_history = gradient_descent(X3, y, theta, alpha, iterations)\n",
    "print('Final value of theta =', theta)\n",
    "print('cost_history =', cost_history)"
   ]
  },
  {
   "cell_type": "code",
   "execution_count": 149,
   "id": "49520e2d",
   "metadata": {},
   "outputs": [
    {
     "data": {
      "text/plain": [
       "<matplotlib.legend.Legend at 0x24029ef7f40>"
      ]
     },
     "execution_count": 149,
     "metadata": {},
     "output_type": "execute_result"
    },
    {
     "data": {
      "image/png": "[encoded data removed]",
      "text/plain": [
       "<Figure size 720x432 with 1 Axes>"
      ]
     },
     "metadata": {
      "needs_background": "light"
     },
     "output_type": "display_data"
    }
   ],
   "source": [
    "\n",
    "# Since X3 is list of list (feature matrix) lets take values of column of index 1 only\n",
    "plt.scatter(X3[:,1], y, color='red', marker= '+', label= 'Training Data')\n",
    "plt.plot(X3[:,1],X3.dot(theta), color='green', label='Linear Regression')\n",
    "plt.rcParams[\"figure.figsize\"] = (10,6)\n",
    "plt.grid()\n",
    "plt.xlabel('X3 Explanatory Variable Data')\n",
    "plt.ylabel('Y Dependant Variable')\n",
    "plt.title('Linear Regression Fit for X3/Y Dataset')\n",
    "plt.legend()\n"
   ]
  },
  {
   "cell_type": "code",
   "execution_count": 150,
   "id": "91108e18",
   "metadata": {},
   "outputs": [
    {
     "data": {
      "text/plain": [
       "Text(0.5, 1.0, 'Convergence of gradient descent')"
      ]
     },
     "execution_count": 150,
     "metadata": {},
     "output_type": "execute_result"
    },
    {
     "data": {
      "image/png": "[encoded data removed]",
      "text/plain": [
       "<Figure size 720x432 with 1 Axes>"
      ]
     },
     "metadata": {
      "needs_background": "light"
     },
     "output_type": "display_data"
    }
   ],
   "source": [
    "plt.plot(range(1, iterations + 1),cost_history, color='blue')\n",
    "plt.rcParams[\"figure.figsize\"] = (10,6)\n",
    "plt.grid()\n",
    "plt.xlabel('Number of iterations')\n",
    "plt.ylabel('Dependant Variable Y')\n",
    "plt.title('Convergence of gradient descent')"
   ]
  },
  {
   "cell_type": "code",
   "execution_count": null,
   "id": "f5f4a08e",
   "metadata": {},
   "outputs": [],
   "source": []
  }
 ],
 "metadata": {
  "kernelspec": {
   "display_name": "Python 3",
   "language": "python",
   "name": "python3"
  },
  "language_info": {
   "codemirror_mode": {
    "name": "ipython",
    "version": 3
   },
   "file_extension": ".py",
   "mimetype": "text/x-python",
   "name": "python",
   "nbconvert_exporter": "python",
   "pygments_lexer": "ipython3",
   "version": "3.8.8"
  }
 },
 "nbformat": 4,
 "nbformat_minor": 5
}
